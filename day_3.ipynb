{
 "cells": [
  {
   "cell_type": "code",
   "execution_count": 17,
   "id": "9e1e6dd5-9554-4b76-908e-5080f21c6b59",
   "metadata": {},
   "outputs": [
    {
     "name": "stdin",
     "output_type": "stream",
     "text": [
      "Enter the values:  1\n",
      "Enter the values:  2\n",
      "Enter the values:  3\n",
      "Enter the values:  4\n",
      "Enter the values:  5\n",
      "Enter the values:  6\n",
      "Enter the values:  7\n",
      "Enter the values:  8\n",
      "Enter the values:  9\n",
      "Enter the values:  10\n",
      "Enter the values:  11\n"
     ]
    },
    {
     "name": "stdout",
     "output_type": "stream",
     "text": [
      "[0, 1, 2, 3, 4, 5, 6, 7, 8, 9, 10]\n"
     ]
    }
   ],
   "source": [
    "# List Comprehenssion\n",
    "'''l = []\n",
    "for i in range (0, 100, 2):\n",
    "    l.append(i)\n",
    "\n",
    "l2 = [i for i in range (0, 100, 2)]\n",
    "print(l)\n",
    "print(l2)'''\n",
    "\n",
    "\n",
    "# Take 10 inputs form user and create a list from that input\n",
    "l = []\n",
    "for i in range(0, 10):\n",
    "    a = int(input(\"Enter the values: \"))\n",
    "    l.append(i)\n",
    "\n",
    "print(l)\n",
    "\n",
    "  "
   ]
  },
  {
   "cell_type": "code",
   "execution_count": 33,
   "id": "79041739-65ba-449c-82e7-8b84aa509251",
   "metadata": {},
   "outputs": [
    {
     "name": "stdin",
     "output_type": "stream",
     "text": [
      " 2, 5, 3\n"
     ]
    },
    {
     "name": "stdout",
     "output_type": "stream",
     "text": [
      "['hyello']\n"
     ]
    },
    {
     "name": "stdin",
     "output_type": "stream",
     "text": [
      " 2, 5, 9\n"
     ]
    },
    {
     "name": "stdout",
     "output_type": "stream",
     "text": [
      "['2', ' 5', ' 9']\n"
     ]
    }
   ],
   "source": [
    "# Creating a list\n",
    "l1 = list(map(str, input().split()))\n",
    "print(l)\n",
    "l2 = list(map(str,input().split(\",\")))\n",
    "print(l2)"
   ]
  },
  {
   "cell_type": "code",
   "execution_count": 24,
   "id": "558da65c-d1e7-4de1-ae07-1df475aaa1e7",
   "metadata": {},
   "outputs": [
    {
     "name": "stdout",
     "output_type": "stream",
     "text": [
      "10\n",
      "20\n",
      "This is a function 1 from class A\n",
      "11\n",
      "22\n",
      "This is a function 1 from class B\n"
     ]
    }
   ],
   "source": [
    "# Polymorphism\n",
    "\n",
    "class A:\n",
    "    def __init__(self):\n",
    "        self.a = 10\n",
    "        self.b = 20\n",
    "    def fun1(self):\n",
    "        print(\"This is a function 1 from class A\")\n",
    "\n",
    "class B:\n",
    "    def __init__(self):\n",
    "        self.a = 11\n",
    "        self.b = 22\n",
    "    def fun1(self):\n",
    "        print(\"This is a function 1 from class B\")\n",
    "\n",
    "if __name__==\"__main__\":\n",
    "    obj= A()\n",
    "    print(obj.a)\n",
    "    print(obj.b)\n",
    "    obj.fun1()\n",
    "\n",
    "\n",
    "    \n",
    "    obj= B()\n",
    "    print(obj.a)\n",
    "    print(obj.b)\n",
    "    obj.fun1()\n",
    "        \n"
   ]
  },
  {
   "cell_type": "code",
   "execution_count": 30,
   "id": "d4683006-d549-4577-be3b-78465bea93f5",
   "metadata": {},
   "outputs": [
    {
     "name": "stdout",
     "output_type": "stream",
     "text": [
      "10\n",
      "20\n",
      "This is a function 1 from class A\n",
      "11\n",
      "22\n",
      "This is a function 1 from class A\n",
      "This is a function 1 from class B\n"
     ]
    }
   ],
   "source": [
    "#Polymorphism using super Keyword\n",
    "class A:\n",
    "    A = 11\n",
    "    B = 20\n",
    "    def __init__(self):\n",
    "        self.a = 10\n",
    "        self.b = 20\n",
    "    def fun1(self):\n",
    "        print(\"This is a function 1 from class A\")\n",
    "    \n",
    "\n",
    "class B(A):\n",
    "    def __init__(self):\n",
    "        self.a = 11\n",
    "        self.b = 22\n",
    "    def fun1(self):\n",
    "        super().fun1()\n",
    "        print(\"This is a function 1 from class B\")\n",
    "\n",
    "if __name__==\"__main__\":\n",
    "    obj= A()\n",
    "    print(obj.a)\n",
    "    print(obj.b)\n",
    "    obj.fun1()\n",
    "\n",
    "    \n",
    "    obj= B()\n",
    "    print(obj.a)\n",
    "    print(obj.b)\n",
    "    obj.fun1()\n",
    "        "
   ]
  },
  {
   "cell_type": "code",
   "execution_count": null,
   "id": "7cdcfe73-0d71-40df-bbb6-cbcb28f22093",
   "metadata": {},
   "outputs": [],
   "source": [
    "L = [1,2,3,4,5]\n",
    "L2 = list((1,2,3,4,5))"
   ]
  },
  {
   "cell_type": "code",
   "execution_count": 31,
   "id": "f7692db1-c5f1-4fce-aab3-317dae2c96e2",
   "metadata": {},
   "outputs": [
    {
     "ename": "NameError",
     "evalue": "name 'L' is not defined",
     "output_type": "error",
     "traceback": [
      "\u001b[1;31m---------------------------------------------------------------------------\u001b[0m",
      "\u001b[1;31mNameError\u001b[0m                                 Traceback (most recent call last)",
      "Cell \u001b[1;32mIn[31], line 1\u001b[0m\n\u001b[1;32m----> 1\u001b[0m \u001b[38;5;28mprint\u001b[39m(\u001b[43mL\u001b[49m, L2)\n",
      "\u001b[1;31mNameError\u001b[0m: name 'L' is not defined"
     ]
    }
   ],
   "source": [
    "print(L, L2)"
   ]
  }
 ],
 "metadata": {
  "kernelspec": {
   "display_name": "Python 3 (ipykernel)",
   "language": "python",
   "name": "python3"
  },
  "language_info": {
   "codemirror_mode": {
    "name": "ipython",
    "version": 3
   },
   "file_extension": ".py",
   "mimetype": "text/x-python",
   "name": "python",
   "nbconvert_exporter": "python",
   "pygments_lexer": "ipython3",
   "version": "3.12.4"
  }
 },
 "nbformat": 4,
 "nbformat_minor": 5
}
