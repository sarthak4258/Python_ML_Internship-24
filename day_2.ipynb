{
 "cells": [
  {
   "cell_type": "code",
   "execution_count": 7,
   "id": "b945a131-44a6-4ddf-a22a-e647b418ca1d",
   "metadata": {},
   "outputs": [
    {
     "name": "stdin",
     "output_type": "stream",
     "text": [
      "enter your expression 45\\55\n"
     ]
    },
    {
     "name": "stdout",
     "output_type": "stream",
     "text": [
      "invalid operator\n"
     ]
    }
   ],
   "source": [
    "#Making a calculator which takes string input.\n",
    "str = input(\"enter your expression\")\n",
    "op = \"\"\n",
    "for i in str:\n",
    "    if i in ['+','-','*','/']:\n",
    "       op=i\n",
    "str=str.replace(op,\" \")\n",
    "L=str.split(\" \")\n",
    "if op == '+':\n",
    "    print(float(L[0])+float(L[1]))\n",
    "elif op == '-':\n",
    "    print(float(L[0])-float(L[1]))\n",
    "elif op == '*':\n",
    "    print(float(L[0])*float(L[1]))\n",
    "elif op == '/':\n",
    "    print(float(L[0])/float(L[1]))\n",
    "else:\n",
    "    print(\"invalid operator\")"
   ]
  },
  {
   "cell_type": "code",
   "execution_count": 33,
   "id": "c1f7d323-8a00-4c6b-a3a3-231f97119d25",
   "metadata": {},
   "outputs": [
    {
     "name": "stdout",
     "output_type": "stream",
     "text": [
      "{'a': 2, 'b': 1, 'd': 2, 'c': 1}\n"
     ]
    }
   ],
   "source": [
    "#Checking the number of values in the given dict.\n",
    "dict = { \"S1\":\"a\" , \"S2\":\"b\" , \"S3\":\"a\" , \"S4\":\"d\" , \"S5\":\"c\",\"S6\":\"d\"}\n",
    "DOP={}\n",
    "for i in dict.values():\n",
    "        if i in DOP.keys():\n",
    "           DOP[i]=DOP[i]+1\n",
    "        else:\n",
    "            DOP[i]=1\n",
    "print(DOP)"
   ]
  },
  {
   "cell_type": "code",
   "execution_count": 41,
   "id": "80b1f74d-5205-4cff-92cd-99feccce9680",
   "metadata": {},
   "outputs": [
    {
     "name": "stdout",
     "output_type": "stream",
     "text": [
      "35\n"
     ]
    }
   ],
   "source": [
    "'''\n",
    "Fundamental of creating a functions:-\n",
    "1.Name of the function.\n",
    "2.Return type ( in python \" void \" is none) , ( the concept of return type is not applicable in python).\n",
    "3.Parameter.\n",
    "4. Defination.\n",
    "Syntax:-\n",
    "    def name(parameter1 , parameter2 , parameter3 ..... n)\n",
    "        ------\n",
    "        -------\n",
    "        ---\n",
    "        ------\n",
    "        return\n",
    "Example of function\n",
    "    def addnum(a,b):\n",
    "        c = a+b\n",
    "        return c\n",
    "'''\n",
    "def add_num(a,b):\n",
    "    c=a+b\n",
    "    print(c)\n",
    "    return\n",
    "if __name__==\"__main__\": #Way of creating a main function in python.\n",
    "    add_num(4,31)\n"
   ]
  },
  {
   "cell_type": "code",
   "execution_count": 44,
   "id": "3b1685f5-1f81-43f1-bc02-26fdaeee3e1a",
   "metadata": {},
   "outputs": [
    {
     "name": "stdin",
     "output_type": "stream",
     "text": [
      " 4\n",
      " 3\n"
     ]
    },
    {
     "name": "stdout",
     "output_type": "stream",
     "text": [
      "7\n"
     ]
    }
   ],
   "source": [
    "#Adding the 2 number using functions.\n",
    "def addnum():\n",
    "    a = int(input())\n",
    "    b = int(input())\n",
    "    c=a+b\n",
    "    print(c)\n",
    "    return\n",
    "if __name__==\"__main__\":\n",
    "    addnum()"
   ]
  },
  {
   "cell_type": "code",
   "execution_count": 97,
   "id": "939999bf-c390-4ab9-98d2-f0d24d535c8c",
   "metadata": {},
   "outputs": [
    {
     "name": "stdin",
     "output_type": "stream",
     "text": [
      "Enter the number: 33\n"
     ]
    },
    {
     "name": "stdout",
     "output_type": "stream",
     "text": [
      "Number entered is: 33\n",
      "prime\n",
      "not prime\n"
     ]
    }
   ],
   "source": [
    "#checking for prime number.\n",
    "def prime(num):\n",
    "    if num<2:\n",
    "        print(\"not prime\")\n",
    "        \n",
    "    else:\n",
    "        for i in range(2, num): \n",
    "            if num % i == 0:\n",
    "                print(\"not prime\")\n",
    "                break\n",
    "        else:\n",
    "            print( \"prime\")\n",
    "if __name__==\"__main__\":\n",
    "    num=int(input(\"Enter the number:\"))\n",
    "    print(f\"Number entered is: {num}\")\n",
    "    prime(num)\n",
    "    \n",
    "    \n",
    "    "
   ]
  },
  {
   "cell_type": "code",
   "execution_count": 101,
   "id": "05edde7b-8604-43a5-a976-b443bbc53f04",
   "metadata": {},
   "outputs": [
    {
     "name": "stdout",
     "output_type": "stream",
     "text": [
      "<class '__main__.ABC'>\n"
     ]
    }
   ],
   "source": [
    "#Class\n",
    "class ABC:\n",
    "    def __init__(self):\n",
    "        self.a=0\n",
    "        self.L=[]\n",
    "        self.C=\"HELLO \"\n",
    "    def abc(self):\n",
    "        print(self.a)\n",
    "        print(self.L)\n",
    "        print(self.C)\n",
    "\n",
    "if __name__==\"__main__\":\n",
    "    obj=ABC()\n",
    "    obj.abc\n",
    "    print(type(obj))\n",
    "                "
   ]
  },
  {
   "cell_type": "code",
   "execution_count": 109,
   "id": "55e5cf0d-facb-4b23-9407-36f8a7a6732e",
   "metadata": {},
   "outputs": [
    {
     "name": "stdout",
     "output_type": "stream",
     "text": [
      "this is public function 1 from class A\n"
     ]
    },
    {
     "ename": "AttributeError",
     "evalue": "'B' object has no attribute '_fun2_'",
     "output_type": "error",
     "traceback": [
      "\u001b[1;31m---------------------------------------------------------------------------\u001b[0m",
      "\u001b[1;31mAttributeError\u001b[0m                            Traceback (most recent call last)",
      "Cell \u001b[1;32mIn[109], line 28\u001b[0m\n\u001b[0;32m     25\u001b[0m obj3\u001b[38;5;241m=\u001b[39mC()\n\u001b[0;32m     27\u001b[0m obj1\u001b[38;5;241m.\u001b[39mfun1()\n\u001b[1;32m---> 28\u001b[0m \u001b[43mobj2\u001b[49m\u001b[38;5;241;43m.\u001b[39;49m\u001b[43m_fun2_\u001b[49m()\n\u001b[0;32m     30\u001b[0m obj2\u001b[38;5;241m.\u001b[39mfun3()\n\u001b[0;32m     31\u001b[0m obj2\u001b[38;5;241m.\u001b[39m_fun4_()\n",
      "\u001b[1;31mAttributeError\u001b[0m: 'B' object has no attribute '_fun2_'"
     ]
    }
   ],
   "source": [
    "class A:\n",
    "    def __init__(self):\n",
    "        self.a=2\n",
    "    def fun1(self):\n",
    "        print(\"this is public function 1 from class A\")\n",
    "    def fun2(self):\n",
    "        print(\"this is public function 2 from class A\")\n",
    "class B:\n",
    "    def __init__(self):\n",
    "        self.b=3\n",
    "    def fun3(self):\n",
    "        print(\"this is public function from 3 class B\")\n",
    "    def fun4(self):\n",
    "        print(\"this is public function from 4 class B\")\n",
    "class C:\n",
    "    def __init__(self):\n",
    "        self.c=4\n",
    "    def fun5(self):\n",
    "        print(\"this is public function from 5 class C\")\n",
    "    def fun6(self):\n",
    "        print(\"this is public function from 6 class C\")\n",
    "if __name__==\"__main__\":\n",
    "    obj1=A()\n",
    "    obj2=B()\n",
    "    obj3=C()\n",
    "    \n",
    "    obj1.fun1()\n",
    "    obj2._fun2_()\n",
    "\n",
    "    obj2.fun3()\n",
    "    obj2._fun4_()\n",
    "\n",
    "    obj3.fun5()\n",
    "    obj3._fun6_()"
   ]
  },
  {
   "cell_type": "code",
   "execution_count": 106,
   "id": "c354dc0d-6c75-4d76-bf88-9c5d1e786800",
   "metadata": {},
   "outputs": [
    {
     "name": "stdout",
     "output_type": "stream",
     "text": [
      "this is public function 1 from class A\n"
     ]
    },
    {
     "ename": "AttributeError",
     "evalue": "'C' object has no attribute '_fun2_'",
     "output_type": "error",
     "traceback": [
      "\u001b[1;31m---------------------------------------------------------------------------\u001b[0m",
      "\u001b[1;31mAttributeError\u001b[0m                            Traceback (most recent call last)",
      "Cell \u001b[1;32mIn[106], line 28\u001b[0m\n\u001b[0;32m     25\u001b[0m obj3\u001b[38;5;241m=\u001b[39mC()\n\u001b[0;32m     27\u001b[0m obj3\u001b[38;5;241m.\u001b[39mfun1()\n\u001b[1;32m---> 28\u001b[0m \u001b[43mobj3\u001b[49m\u001b[38;5;241;43m.\u001b[39;49m\u001b[43m_fun2_\u001b[49m()\n\u001b[0;32m     30\u001b[0m obj2\u001b[38;5;241m.\u001b[39mfun3()\n\u001b[0;32m     31\u001b[0m obj2\u001b[38;5;241m.\u001b[39m_fun4_()\n",
      "\u001b[1;31mAttributeError\u001b[0m: 'C' object has no attribute '_fun2_'"
     ]
    }
   ],
   "source": [
    "#Multi-level inheritance A-->B-->C\n",
    "class A:\n",
    "    def __init__(self):\n",
    "        self.a=2\n",
    "    def fun1(self):\n",
    "        print(\"this is public function 1 from class A\")\n",
    "    def fun2(self):\n",
    "        print(\"this is public function 2 from class A\")\n",
    "class B (A):\n",
    "    def __init__(self):\n",
    "        self.b=3\n",
    "    def fun3(self):\n",
    "        print(\"this is public function from 3 class B\")\n",
    "    def fun4(self):\n",
    "        print(\"this is public function from 4 class B\")\n",
    "class C (B):\n",
    "    def __init__(self):\n",
    "        self.c=4\n",
    "    def fun5(self):\n",
    "        print(\"this is public function from 5 class C\")\n",
    "    def fun6(self):\n",
    "        print(\"this is public function from 6 class C\")\n",
    "if __name__==\"__main__\":\n",
    "    obj1=A()\n",
    "    obj2=B()\n",
    "    obj3=C()\n",
    "    \n",
    "    obj3.fun1()\n",
    "    obj3._fun2_()\n",
    "\n",
    "    obj2.fun3()\n",
    "    obj2._fun4_()\n",
    "\n",
    "    obj3.fun5()\n",
    "    obj3._fun6_()"
   ]
  },
  {
   "cell_type": "code",
   "execution_count": null,
   "id": "69294b98-ce98-47bd-9422-897a547f873d",
   "metadata": {},
   "outputs": [],
   "source": []
  }
 ],
 "metadata": {
  "kernelspec": {
   "display_name": "Python 3 (ipykernel)",
   "language": "python",
   "name": "python3"
  },
  "language_info": {
   "codemirror_mode": {
    "name": "ipython",
    "version": 3
   },
   "file_extension": ".py",
   "mimetype": "text/x-python",
   "name": "python",
   "nbconvert_exporter": "python",
   "pygments_lexer": "ipython3",
   "version": "3.12.4"
  }
 },
 "nbformat": 4,
 "nbformat_minor": 5
}
