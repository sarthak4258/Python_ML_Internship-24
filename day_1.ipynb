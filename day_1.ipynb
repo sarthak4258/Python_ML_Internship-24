{
 "cells": [
  {
   "cell_type": "code",
   "execution_count": 1,
   "id": "d4d100af-83a4-4cde-af20-d90b89f07637",
   "metadata": {},
   "outputs": [
    {
     "name": "stdout",
     "output_type": "stream",
     "text": [
      "7\n"
     ]
    }
   ],
   "source": [
    "a=1\n",
    "b=4\n",
    "c=2\n",
    "sum = a+b+c\n",
    "print(sum)"
   ]
  },
  {
   "cell_type": "code",
   "execution_count": null,
   "id": "dc5c2b93-160d-481a-a0ba-a7092a2cb93f",
   "metadata": {},
   "outputs": [],
   "source": [
    "a = 10\n",
    "b = \n",
    "sum = a+b\n",
    "print(sum)"
   ]
  },
  {
   "cell_type": "code",
   "execution_count": 12,
   "id": "cdf460ba-ce3d-4c59-be66-0640fba66d3f",
   "metadata": {},
   "outputs": [
    {
     "name": "stdin",
     "output_type": "stream",
     "text": [
      "Enter number:  5\n"
     ]
    },
    {
     "name": "stdout",
     "output_type": "stream",
     "text": [
      "Bad\n"
     ]
    }
   ],
   "source": [
    "#If Else\n",
    "\n",
    "num = int(input(\"Enter number: \"))\n",
    "if num<0:\n",
    "    if num>(-24):\n",
    "        if num%2 == 0:\n",
    "            print(\"Good\")\n",
    "        else:\n",
    "            print(\"Not successful\")\n",
    "    else:\n",
    "        print(\"Not Valid\")\n",
    "else:\n",
    "    print(\"Bad\")"
   ]
  },
  {
   "cell_type": "code",
   "execution_count": 13,
   "id": "87ff5e7e-ab31-418f-a94b-c34498a2665d",
   "metadata": {},
   "outputs": [
    {
     "ename": "NameError",
     "evalue": "name 'condition' is not defined",
     "output_type": "error",
     "traceback": [
      "\u001b[1;31m---------------------------------------------------------------------------\u001b[0m",
      "\u001b[1;31mNameError\u001b[0m                                 Traceback (most recent call last)",
      "Cell \u001b[1;32mIn[13], line 3\u001b[0m\n\u001b[0;32m      1\u001b[0m \u001b[38;5;66;03m#while loop\u001b[39;00m\n\u001b[1;32m----> 3\u001b[0m \u001b[38;5;28;01mwhile\u001b[39;00m(\u001b[43mcondition\u001b[49m):\n\u001b[0;32m      4\u001b[0m     \u001b[38;5;28;01mpass\u001b[39;00m\n\u001b[0;32m      7\u001b[0m \u001b[38;5;66;03m#For loop\u001b[39;00m\n",
      "\u001b[1;31mNameError\u001b[0m: name 'condition' is not defined"
     ]
    }
   ],
   "source": [
    "#while loop\n",
    "\n",
    "while(condition):\n",
    "    pass\n",
    "\n",
    "\n",
    "#For loop\n",
    "\n",
    "for i in range(initial, final):\n",
    "    pass\n",
    "\n",
    "i for i in range(10, -1, -1):\n",
    "    print(i)\n",
    "\n",
    "#for each\n",
    "L=[12, 2, 3, 5, 10,]\n",
    "for i in L:\n",
    "    pass"
   ]
  },
  {
   "cell_type": "code",
   "execution_count": 15,
   "id": "c1a778fd-19a1-4b8b-8149-cb47bc1c3442",
   "metadata": {},
   "outputs": [
    {
     "name": "stdout",
     "output_type": "stream",
     "text": [
      "10\n",
      "9\n",
      "8\n",
      "7\n",
      "6\n",
      "5\n",
      "4\n",
      "3\n",
      "2\n",
      "1\n",
      "0\n"
     ]
    }
   ],
   "source": [
    "for i in range(10, -1, -1):\n",
    "    print(i)"
   ]
  },
  {
   "cell_type": "code",
   "execution_count": 22,
   "id": "2d426016-5793-430c-97d9-df54471279e6",
   "metadata": {},
   "outputs": [
    {
     "name": "stdout",
     "output_type": "stream",
     "text": [
      "[1, 2, 3, 4]\n",
      "[1, 2.2, 3.1, 4]\n",
      "[1, 2.5, 'abcd', 'a', True]\n",
      "<class 'list'>\n",
      "<class 'list'>\n",
      "<class 'list'>\n",
      "<class 'int'> <class 'str'> <class 'str'>\n"
     ]
    }
   ],
   "source": [
    "#List\n",
    "\n",
    "l=[1, 2, 3, 4]\n",
    "l2=[1, 2.2, 3.1, 4]\n",
    "l3=[1, 2.5, \"abcd\", 'a', True]\n",
    "\n",
    "print(l)\n",
    "print(l2)\n",
    "print(l3)\n",
    "\n",
    "print(type(l))\n",
    "print(type(l2))\n",
    "print(type(l3))\n",
    "\n",
    "print(type(l3[0]), type(l3[2]), type(l3[3]))"
   ]
  },
  {
   "cell_type": "code",
   "execution_count": 29,
   "id": "39b8a8d0-60ee-4a70-b043-a6b9e67d1ccc",
   "metadata": {},
   "outputs": [
    {
     "name": "stdout",
     "output_type": "stream",
     "text": [
      "<built-in method copy of list object at 0x000001DC89534040>\n"
     ]
    }
   ],
   "source": [
    "list1=[1,2,3,4,5]\n",
    "list2=list1.copy\n",
    "print(list2)\n",
    "\n",
    "#List are mutable, tuples are immutable, strings are also immutable\n",
    "#[] -- list\n",
    "#() -- tuples\n",
    "#{} -- dictonary"
   ]
  },
  {
   "cell_type": "code",
   "execution_count": 30,
   "id": "e026a0da-cec2-4e95-982c-92572484031a",
   "metadata": {},
   "outputs": [
    {
     "name": "stdout",
     "output_type": "stream",
     "text": [
      "dict_values(['Abcd', 123, [1, 2, 3, 4]])\n",
      "dict_keys([1, 'xyz', 2])\n"
     ]
    }
   ],
   "source": [
    "#dictonary\n",
    "#Key must be unique, values may repeat\n",
    "d={1:\"Abcd\", \"xyz\":123, 2:[1,2,3,4]}\n",
    "print(d.values())\n",
    "print(d.keys())\n"
   ]
  },
  {
   "cell_type": "code",
   "execution_count": 31,
   "id": "1c03305c-35c4-4f73-a7af-626c178bfc7f",
   "metadata": {},
   "outputs": [
    {
     "name": "stdout",
     "output_type": "stream",
     "text": [
      "[1, 2, 3, 4]\n"
     ]
    }
   ],
   "source": [
    "print(d[2])"
   ]
  },
  {
   "cell_type": "code",
   "execution_count": 35,
   "id": "2ba4cafc-61ea-4bba-8110-a81ddab2f293",
   "metadata": {},
   "outputs": [
    {
     "name": "stdout",
     "output_type": "stream",
     "text": [
      "123\n"
     ]
    }
   ],
   "source": [
    "print(d[\"xyz\"])"
   ]
  },
  {
   "cell_type": "code",
   "execution_count": 40,
   "id": "ff40b175-2f0c-40f1-99ea-b222176293e7",
   "metadata": {},
   "outputs": [
    {
     "name": "stdout",
     "output_type": "stream",
     "text": [
      "{1: 'Abcd', 'xyz': 123, 2: [1, 2, 3, 4], 3: 'ram'}\n"
     ]
    }
   ],
   "source": [
    "d[3]=\"ram\"\n",
    "print(d)"
   ]
  },
  {
   "cell_type": "code",
   "execution_count": 42,
   "id": "afb995b5-0b44-47be-abb3-3636b747943b",
   "metadata": {},
   "outputs": [
    {
     "name": "stdout",
     "output_type": "stream",
     "text": [
      "{1: 'Abcd', 'xyz': 123, 2: [1, 2, 3, 4], 3: 'ram', 'x': 123}\n"
     ]
    }
   ],
   "source": [
    "d[\"x\"]=123\n",
    "print(d)"
   ]
  },
  {
   "cell_type": "code",
   "execution_count": 44,
   "id": "7d357ed5-e04f-4141-8c32-22c18f718412",
   "metadata": {},
   "outputs": [
    {
     "name": "stdout",
     "output_type": "stream",
     "text": [
      "{1: 'Abcd', 'xyz': 123, 2: [1, 2, 3, 4], 3: 'sam', 'x': 123}\n"
     ]
    }
   ],
   "source": [
    "d[3]=\"sam\"\n",
    "print(d)"
   ]
  },
  {
   "cell_type": "code",
   "execution_count": null,
   "id": "ae05f3af-1770-4678-9ce4-c5b98a18a491",
   "metadata": {},
   "outputs": [],
   "source": []
  }
 ],
 "metadata": {
  "kernelspec": {
   "display_name": "Python 3 (ipykernel)",
   "language": "python",
   "name": "python3"
  },
  "language_info": {
   "codemirror_mode": {
    "name": "ipython",
    "version": 3
   },
   "file_extension": ".py",
   "mimetype": "text/x-python",
   "name": "python",
   "nbconvert_exporter": "python",
   "pygments_lexer": "ipython3",
   "version": "3.11.5"
  }
 },
 "nbformat": 4,
 "nbformat_minor": 5
}
